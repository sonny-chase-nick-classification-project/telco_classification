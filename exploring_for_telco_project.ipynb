{
 "cells": [
  {
   "cell_type": "code",
   "execution_count": 1,
   "metadata": {},
   "outputs": [],
   "source": [
    "import numpy as np\n",
    "import pandas as pd\n",
    "\n",
    "from sklearn.model_selection import train_test_split\n",
    "from sklearn.linear_model import LogisticRegression\n",
    "from sklearn.metrics import classification_report\n",
    "from sklearn.metrics import confusion_matrix\n",
    "from sklearn.metrics import accuracy_score, precision_score, recall_score\n",
    "import sklearn.impute\n",
    "from sklearn.preprocessing import LabelEncoder, OneHotEncoder, MinMaxScaler\n",
    "from sklearn.ensemble import RandomForestClassifier\n",
    "from sklearn.tree import DecisionTreeClassifier\n",
    "from sklearn.tree import export_graphviz\n",
    "from sklearn.metrics import classification_report\n",
    "from sklearn.metrics import confusion_matrix\n",
    "from sklearn.neighbors import KNeighborsClassifier\n",
    "\n",
    "import matplotlib.pyplot as plt\n",
    "%matplotlib inline\n",
    "import seaborn as sns\n",
    "# ignore warnings\n",
    "import warnings\n",
    "warnings.filterwarnings(\"ignore\")\n",
    "\n",
    "import env\n",
    "import acquire\n",
    "import prepare\n",
    "\n",
    "pd.set_option('display.max_columns', None)"
   ]
  },
  {
   "cell_type": "code",
   "execution_count": 2,
   "metadata": {
    "scrolled": true
   },
   "outputs": [],
   "source": [
    "df = acquire.get_telco_data()"
   ]
  },
  {
   "cell_type": "code",
   "execution_count": 3,
   "metadata": {},
   "outputs": [],
   "source": [
    "# split data into train, validate and test\n",
    "X_train, y_train, X_validate, y_validate, X_test, y_test = prepare.split_telco(df)"
   ]
  },
  {
   "cell_type": "code",
   "execution_count": 4,
   "metadata": {},
   "outputs": [
    {
     "data": {
      "text/plain": [
       "(4500, 25)"
      ]
     },
     "execution_count": 4,
     "metadata": {},
     "output_type": "execute_result"
    }
   ],
   "source": [
    "X_train.shape"
   ]
  },
  {
   "cell_type": "code",
   "execution_count": 5,
   "metadata": {},
   "outputs": [
    {
     "data": {
      "text/html": [
       "<div>\n",
       "<style scoped>\n",
       "    .dataframe tbody tr th:only-of-type {\n",
       "        vertical-align: middle;\n",
       "    }\n",
       "\n",
       "    .dataframe tbody tr th {\n",
       "        vertical-align: top;\n",
       "    }\n",
       "\n",
       "    .dataframe thead th {\n",
       "        text-align: right;\n",
       "    }\n",
       "</style>\n",
       "<table border=\"1\" class=\"dataframe\">\n",
       "  <thead>\n",
       "    <tr style=\"text-align: right;\">\n",
       "      <th></th>\n",
       "      <th>gender</th>\n",
       "      <th>senior_citizen</th>\n",
       "      <th>online_security</th>\n",
       "      <th>online_backup</th>\n",
       "      <th>device_protection</th>\n",
       "      <th>tech_support</th>\n",
       "      <th>streaming_tv</th>\n",
       "      <th>streaming_movies</th>\n",
       "      <th>paperless_billing</th>\n",
       "      <th>monthly_charges</th>\n",
       "      <th>total_charges</th>\n",
       "      <th>churn</th>\n",
       "      <th>tenure_years</th>\n",
       "      <th>phone_and_multi_line</th>\n",
       "      <th>partner_and_dependents</th>\n",
       "      <th>Bank transfer (automatic)</th>\n",
       "      <th>Credit card (automatic)</th>\n",
       "      <th>Electronic check</th>\n",
       "      <th>Mailed check</th>\n",
       "      <th>DSL</th>\n",
       "      <th>Fiber optic</th>\n",
       "      <th>None</th>\n",
       "      <th>Month-to-month</th>\n",
       "      <th>One year</th>\n",
       "      <th>Two year</th>\n",
       "    </tr>\n",
       "    <tr>\n",
       "      <th>customer_id</th>\n",
       "      <th></th>\n",
       "      <th></th>\n",
       "      <th></th>\n",
       "      <th></th>\n",
       "      <th></th>\n",
       "      <th></th>\n",
       "      <th></th>\n",
       "      <th></th>\n",
       "      <th></th>\n",
       "      <th></th>\n",
       "      <th></th>\n",
       "      <th></th>\n",
       "      <th></th>\n",
       "      <th></th>\n",
       "      <th></th>\n",
       "      <th></th>\n",
       "      <th></th>\n",
       "      <th></th>\n",
       "      <th></th>\n",
       "      <th></th>\n",
       "      <th></th>\n",
       "      <th></th>\n",
       "      <th></th>\n",
       "      <th></th>\n",
       "      <th></th>\n",
       "    </tr>\n",
       "  </thead>\n",
       "  <tbody>\n",
       "    <tr>\n",
       "      <th>3714-JTVOV</th>\n",
       "      <td>0</td>\n",
       "      <td>1</td>\n",
       "      <td>2</td>\n",
       "      <td>0</td>\n",
       "      <td>0</td>\n",
       "      <td>0</td>\n",
       "      <td>0</td>\n",
       "      <td>0</td>\n",
       "      <td>1</td>\n",
       "      <td>74.15</td>\n",
       "      <td>3229.40</td>\n",
       "      <td>1</td>\n",
       "      <td>3.500000</td>\n",
       "      <td>1</td>\n",
       "      <td>1</td>\n",
       "      <td>0.0</td>\n",
       "      <td>1.0</td>\n",
       "      <td>0.0</td>\n",
       "      <td>0.0</td>\n",
       "      <td>0.0</td>\n",
       "      <td>1.0</td>\n",
       "      <td>0.0</td>\n",
       "      <td>1.0</td>\n",
       "      <td>0.0</td>\n",
       "      <td>0.0</td>\n",
       "    </tr>\n",
       "    <tr>\n",
       "      <th>3049-SOLAY</th>\n",
       "      <td>0</td>\n",
       "      <td>0</td>\n",
       "      <td>0</td>\n",
       "      <td>0</td>\n",
       "      <td>0</td>\n",
       "      <td>0</td>\n",
       "      <td>2</td>\n",
       "      <td>2</td>\n",
       "      <td>1</td>\n",
       "      <td>95.20</td>\n",
       "      <td>292.85</td>\n",
       "      <td>1</td>\n",
       "      <td>0.250000</td>\n",
       "      <td>2</td>\n",
       "      <td>1</td>\n",
       "      <td>0.0</td>\n",
       "      <td>0.0</td>\n",
       "      <td>1.0</td>\n",
       "      <td>0.0</td>\n",
       "      <td>0.0</td>\n",
       "      <td>1.0</td>\n",
       "      <td>0.0</td>\n",
       "      <td>1.0</td>\n",
       "      <td>0.0</td>\n",
       "      <td>0.0</td>\n",
       "    </tr>\n",
       "    <tr>\n",
       "      <th>5035-PGZXH</th>\n",
       "      <td>0</td>\n",
       "      <td>0</td>\n",
       "      <td>0</td>\n",
       "      <td>2</td>\n",
       "      <td>2</td>\n",
       "      <td>0</td>\n",
       "      <td>2</td>\n",
       "      <td>2</td>\n",
       "      <td>1</td>\n",
       "      <td>106.80</td>\n",
       "      <td>5914.40</td>\n",
       "      <td>0</td>\n",
       "      <td>4.666667</td>\n",
       "      <td>2</td>\n",
       "      <td>0</td>\n",
       "      <td>0.0</td>\n",
       "      <td>0.0</td>\n",
       "      <td>1.0</td>\n",
       "      <td>0.0</td>\n",
       "      <td>0.0</td>\n",
       "      <td>1.0</td>\n",
       "      <td>0.0</td>\n",
       "      <td>0.0</td>\n",
       "      <td>1.0</td>\n",
       "      <td>0.0</td>\n",
       "    </tr>\n",
       "    <tr>\n",
       "      <th>1051-EQPZR</th>\n",
       "      <td>0</td>\n",
       "      <td>0</td>\n",
       "      <td>1</td>\n",
       "      <td>1</td>\n",
       "      <td>1</td>\n",
       "      <td>1</td>\n",
       "      <td>1</td>\n",
       "      <td>1</td>\n",
       "      <td>0</td>\n",
       "      <td>19.60</td>\n",
       "      <td>780.25</td>\n",
       "      <td>0</td>\n",
       "      <td>3.666667</td>\n",
       "      <td>1</td>\n",
       "      <td>3</td>\n",
       "      <td>0.0</td>\n",
       "      <td>0.0</td>\n",
       "      <td>0.0</td>\n",
       "      <td>1.0</td>\n",
       "      <td>0.0</td>\n",
       "      <td>0.0</td>\n",
       "      <td>1.0</td>\n",
       "      <td>1.0</td>\n",
       "      <td>0.0</td>\n",
       "      <td>0.0</td>\n",
       "    </tr>\n",
       "    <tr>\n",
       "      <th>8755-OGKNA</th>\n",
       "      <td>0</td>\n",
       "      <td>0</td>\n",
       "      <td>1</td>\n",
       "      <td>1</td>\n",
       "      <td>1</td>\n",
       "      <td>1</td>\n",
       "      <td>1</td>\n",
       "      <td>1</td>\n",
       "      <td>0</td>\n",
       "      <td>19.50</td>\n",
       "      <td>1167.60</td>\n",
       "      <td>0</td>\n",
       "      <td>4.750000</td>\n",
       "      <td>1</td>\n",
       "      <td>3</td>\n",
       "      <td>1.0</td>\n",
       "      <td>0.0</td>\n",
       "      <td>0.0</td>\n",
       "      <td>0.0</td>\n",
       "      <td>0.0</td>\n",
       "      <td>0.0</td>\n",
       "      <td>1.0</td>\n",
       "      <td>0.0</td>\n",
       "      <td>0.0</td>\n",
       "      <td>1.0</td>\n",
       "    </tr>\n",
       "  </tbody>\n",
       "</table>\n",
       "</div>"
      ],
      "text/plain": [
       "             gender  senior_citizen  online_security  online_backup  \\\n",
       "customer_id                                                           \n",
       "3714-JTVOV        0               1                2              0   \n",
       "3049-SOLAY        0               0                0              0   \n",
       "5035-PGZXH        0               0                0              2   \n",
       "1051-EQPZR        0               0                1              1   \n",
       "8755-OGKNA        0               0                1              1   \n",
       "\n",
       "             device_protection  tech_support  streaming_tv  streaming_movies  \\\n",
       "customer_id                                                                    \n",
       "3714-JTVOV                   0             0             0                 0   \n",
       "3049-SOLAY                   0             0             2                 2   \n",
       "5035-PGZXH                   2             0             2                 2   \n",
       "1051-EQPZR                   1             1             1                 1   \n",
       "8755-OGKNA                   1             1             1                 1   \n",
       "\n",
       "             paperless_billing  monthly_charges  total_charges  churn  \\\n",
       "customer_id                                                             \n",
       "3714-JTVOV                   1            74.15        3229.40      1   \n",
       "3049-SOLAY                   1            95.20         292.85      1   \n",
       "5035-PGZXH                   1           106.80        5914.40      0   \n",
       "1051-EQPZR                   0            19.60         780.25      0   \n",
       "8755-OGKNA                   0            19.50        1167.60      0   \n",
       "\n",
       "             tenure_years  phone_and_multi_line  partner_and_dependents  \\\n",
       "customer_id                                                               \n",
       "3714-JTVOV       3.500000                     1                       1   \n",
       "3049-SOLAY       0.250000                     2                       1   \n",
       "5035-PGZXH       4.666667                     2                       0   \n",
       "1051-EQPZR       3.666667                     1                       3   \n",
       "8755-OGKNA       4.750000                     1                       3   \n",
       "\n",
       "             Bank transfer (automatic)  Credit card (automatic)  \\\n",
       "customer_id                                                       \n",
       "3714-JTVOV                         0.0                      1.0   \n",
       "3049-SOLAY                         0.0                      0.0   \n",
       "5035-PGZXH                         0.0                      0.0   \n",
       "1051-EQPZR                         0.0                      0.0   \n",
       "8755-OGKNA                         1.0                      0.0   \n",
       "\n",
       "             Electronic check  Mailed check  DSL  Fiber optic  None  \\\n",
       "customer_id                                                           \n",
       "3714-JTVOV                0.0           0.0  0.0          1.0   0.0   \n",
       "3049-SOLAY                1.0           0.0  0.0          1.0   0.0   \n",
       "5035-PGZXH                1.0           0.0  0.0          1.0   0.0   \n",
       "1051-EQPZR                0.0           1.0  0.0          0.0   1.0   \n",
       "8755-OGKNA                0.0           0.0  0.0          0.0   1.0   \n",
       "\n",
       "             Month-to-month  One year  Two year  \n",
       "customer_id                                      \n",
       "3714-JTVOV              1.0       0.0       0.0  \n",
       "3049-SOLAY              1.0       0.0       0.0  \n",
       "5035-PGZXH              0.0       1.0       0.0  \n",
       "1051-EQPZR              1.0       0.0       0.0  \n",
       "8755-OGKNA              0.0       0.0       1.0  "
      ]
     },
     "execution_count": 5,
     "metadata": {},
     "output_type": "execute_result"
    }
   ],
   "source": [
    "#print(X_train.head())\n",
    "X_train.head()"
   ]
  },
  {
   "cell_type": "code",
   "execution_count": 6,
   "metadata": {},
   "outputs": [
    {
     "data": {
      "text/plain": [
       "gender                         int64\n",
       "senior_citizen                 int64\n",
       "online_security                int64\n",
       "online_backup                  int64\n",
       "device_protection              int64\n",
       "tech_support                   int64\n",
       "streaming_tv                   int64\n",
       "streaming_movies               int64\n",
       "paperless_billing              int64\n",
       "monthly_charges              float64\n",
       "total_charges                float64\n",
       "churn                          int64\n",
       "tenure_years                 float64\n",
       "phone_and_multi_line           int64\n",
       "partner_and_dependents         int64\n",
       "Bank transfer (automatic)    float64\n",
       "Credit card (automatic)      float64\n",
       "Electronic check             float64\n",
       "Mailed check                 float64\n",
       "DSL                          float64\n",
       "Fiber optic                  float64\n",
       "None                         float64\n",
       "Month-to-month               float64\n",
       "One year                     float64\n",
       "Two year                     float64\n",
       "dtype: object"
      ]
     },
     "execution_count": 6,
     "metadata": {},
     "output_type": "execute_result"
    }
   ],
   "source": [
    "X_train.dtypes"
   ]
  },
  {
   "cell_type": "code",
   "execution_count": 7,
   "metadata": {},
   "outputs": [
    {
     "data": {
      "text/plain": [
       "churn    0.264444\n",
       "dtype: float64"
      ]
     },
     "execution_count": 7,
     "metadata": {},
     "output_type": "execute_result"
    }
   ],
   "source": [
    "y_train.mean()"
   ]
  },
  {
   "cell_type": "code",
   "execution_count": 8,
   "metadata": {},
   "outputs": [],
   "source": [
    "from scipy import stats"
   ]
  },
  {
   "cell_type": "code",
   "execution_count": 9,
   "metadata": {},
   "outputs": [
    {
     "data": {
      "image/png": "[encoded data removed]",
      "text/plain": [
       "<Figure size 1080x720 with 1 Axes>"
      ]
     },
     "metadata": {
      "needs_background": "light"
     },
     "output_type": "display_data"
    }
   ],
   "source": [
    "# the relatioship between churn rate and tenure in years\n",
    "plt.figure(figsize=(15,10))\n",
    "ax = sns.lineplot(x=\"tenure_years\", y= \"churn\", data=X_train)\n",
    "plt.title(\"Churn Rate VS Tenure Year\")\n",
    "ax.set_xlabel(\"Tenure Year\")\n",
    "ax.set_ylabel(\"Churn Rate\")\n",
    "plt.show()"
   ]
  },
  {
   "cell_type": "markdown",
   "metadata": {},
   "source": [
    "Takeaway from Churn Rate VS Tenure Year: Generally speaking, the longer the tenure, the lower the churn rate"
   ]
  },
  {
   "cell_type": "code",
   "execution_count": 10,
   "metadata": {},
   "outputs": [
    {
     "data": {
      "text/plain": [
       "Text(0, 0.5, 'Churn Rate')"
      ]
     },
     "execution_count": 10,
     "metadata": {},
     "output_type": "execute_result"
    },
    {
     "data": {
      "image/png": "[encoded data removed]",
      "text/plain": [
       "<Figure size 432x288 with 1 Axes>"
      ]
     },
     "metadata": {
      "needs_background": "light"
     },
     "output_type": "display_data"
    }
   ],
   "source": [
    "plt.title('partner_and_dependents VS churn rare')\n",
    "ax = sns.barplot(x=\"partner_and_dependents\", y=\"churn\", hue = 'senior_citizen', ci=None, data=X_train)\n",
    "ax.set_ylabel(\"Churn Rate\")"
   ]
  },
  {
   "cell_type": "markdown",
   "metadata": {},
   "source": [
    "Takeaways: It seems custmoers being as senior citizens always have a lower churn rate no matter they have partner and dependent or not!"
   ]
  },
  {
   "cell_type": "code",
   "execution_count": 11,
   "metadata": {
    "scrolled": true
   },
   "outputs": [
    {
     "data": {
      "image/png": "[encoded data removed]",
      "text/plain": [
       "<Figure size 1152x864 with 3 Axes>"
      ]
     },
     "metadata": {
      "needs_background": "light"
     },
     "output_type": "display_data"
    }
   ],
   "source": [
    "plt.figure(figsize=(16, 12))\n",
    "plt.suptitle('Churn Rate VS Internet Service Type', fontsize=15)\n",
    "\n",
    "plt.subplot(331)\n",
    "ax = sns.barplot(x=\"DSL\", y=\"churn\", ci=None, data=X_train)\n",
    "ax.set_ylabel(\"Churn Rate\")\n",
    "plt.ylim(0, .5)\n",
    "\n",
    "plt.subplot(332)\n",
    "ax = sns.barplot(x=\"Fiber optic\", y=\"churn\", ci=None, data=X_train)\n",
    "ax.set_ylabel(\"Churn Rate\")\n",
    "plt.ylim(0, .5)\n",
    "\n",
    "plt.subplot(333)\n",
    "ax = sns.barplot(x=\"None\", y=\"churn\", ci=None, data=X_train)\n",
    "ax.set_ylabel(\"Churn Rate\")\n",
    "plt.ylim(0, .5)\n",
    "plt.show()\n"
   ]
  },
  {
   "cell_type": "markdown",
   "metadata": {},
   "source": [
    "Takeways: Comparing with other internet service, Fiber optic has the highest churn rate, while None internet service has the lowest churn rate."
   ]
  },
  {
   "cell_type": "markdown",
   "metadata": {},
   "source": [
    "## Hypothesis Testing\n",
    "### T_Test for Tenure vs Churn\n",
    "$H_0$: there is no difference in tenure between customers who are still with telco and who have churned\n",
    "\n",
    "$H_a$: there is a difference in tenure between customers who are still with telco and who have churned"
   ]
  },
  {
   "cell_type": "code",
   "execution_count": 12,
   "metadata": {},
   "outputs": [],
   "source": [
    "# since churn is a categorical variable, and tenure_years is a continous variable, use T-Test\n",
    "alpha = 0.05\n",
    "x1 = X_train[X_train.churn == 1].tenure_years\n",
    "x2 = X_train[X_train.churn == 0].tenure_years"
   ]
  },
  {
   "cell_type": "code",
   "execution_count": 13,
   "metadata": {},
   "outputs": [
    {
     "data": {
      "text/plain": [
       "(-25.215509105871295, 2.441569523640957e-131)"
      ]
     },
     "execution_count": 13,
     "metadata": {},
     "output_type": "execute_result"
    }
   ],
   "source": [
    "tstat, p = stats.ttest_ind(x1, x2)\n",
    "tstat, p "
   ]
  },
  {
   "cell_type": "code",
   "execution_count": 14,
   "metadata": {},
   "outputs": [
    {
     "name": "stdout",
     "output_type": "stream",
     "text": [
      "\n",
      "Because p (0.0000) < alpha (0.05), reject the null hypothesis, which means there is a statistically significant\n",
      "diffrence in tenure between customers who are still with telco and who have churned.\n",
      "\n"
     ]
    }
   ],
   "source": [
    "print(f'''\n",
    "Because p ({p:.4f}) < alpha (0.05), reject the null hypothesis, which means there is a statistically significant\n",
    "diffrence in tenure between customers who are still with telco and who have churned.\n",
    "''')"
   ]
  },
  {
   "cell_type": "code",
   "execution_count": 15,
   "metadata": {
    "scrolled": false
   },
   "outputs": [
    {
     "data": {
      "text/plain": [
       "Text(0.5, 1.0, 'Is tenure different among customers who are churned or not?')"
      ]
     },
     "execution_count": 15,
     "metadata": {},
     "output_type": "execute_result"
    },
    {
     "data": {
      "image/png": "[encoded data removed]",
      "text/plain": [
       "<Figure size 432x288 with 1 Axes>"
      ]
     },
     "metadata": {
      "needs_background": "light"
     },
     "output_type": "display_data"
    }
   ],
   "source": [
    "X_train.groupby('churn').tenure_years.mean().plot.bar()\n",
    "plt.xticks(rotation=0)\n",
    "plt.xlabel('')\n",
    "plt.ylabel('Average tenure in years')\n",
    "plt.title('Is tenure different among customers who are churned or not?')"
   ]
  },
  {
   "cell_type": "markdown",
   "metadata": {},
   "source": [
    "### Pearson's correlation coefficient test\n",
    "\n",
    "𝐻0 : There is no linear correlation between monthly charges and Fiber optic(one type of internent service)\n",
    "\n",
    "𝐻𝑎:  There is a linear correlation between monthly charges and Fiber optic(one type of internent service)"
   ]
  },
  {
   "cell_type": "code",
   "execution_count": 16,
   "metadata": {
    "scrolled": true
   },
   "outputs": [
    {
     "name": "stdout",
     "output_type": "stream",
     "text": [
      "Reject the null hypothesis\n",
      "R is 0.7875406312982911\n",
      "p is 0.0\n"
     ]
    }
   ],
   "source": [
    "# set alpha value to .01\n",
    "alpha = .01 \n",
    "r, p = stats.pearsonr(X_train.monthly_charges, X_train['Fiber optic'])\n",
    "\n",
    "if p < alpha:\n",
    "    print(\"Reject the null hypothesis\")\n",
    "\n",
    "else:\n",
    "    print(\"Fail to reject our null hypothesis\")\n",
    "\n",
    "print(\"R is\", r)\n",
    "print(\"p is\", p)"
   ]
  },
  {
   "cell_type": "markdown",
   "metadata": {},
   "source": [
    "Takeaways: There is a strong linear correlation between monthly charges and Fiber optic(one type of internent service)"
   ]
  },
  {
   "cell_type": "markdown",
   "metadata": {},
   "source": [
    "### Chi squared test\n",
    "\n",
    "Since vast majority variables in the dataset are categorical variables, here it would be great to apply the Chi squared test for testing independence between variables"
   ]
  },
  {
   "cell_type": "code",
   "execution_count": 17,
   "metadata": {
    "scrolled": true
   },
   "outputs": [
    {
     "name": "stdout",
     "output_type": "stream",
     "text": [
      "(gender and churn) are  independent of each other. (p = 0.8056180626241757)\n",
      "(senior_citizen and churn) are  dependent of each other. (p = 1.5432311139815586e-25)\n",
      "(online_security and churn) are  dependent of each other. (p = 1.16495887174898e-120)\n",
      "(online_backup and churn) are  dependent of each other. (p = 1.8529124821490668e-86)\n",
      "(device_protection and churn) are  dependent of each other. (p = 1.3851372601721424e-78)\n",
      "(tech_support and churn) are  dependent of each other. (p = 2.4370688872957734e-118)\n",
      "(streaming_tv and churn) are  dependent of each other. (p = 6.745176768523967e-54)\n",
      "(streaming_movies and churn) are  dependent of each other. (p = 1.0230251788873491e-53)\n",
      "(paperless_billing and churn) are  dependent of each other. (p = 2.6537820862110215e-35)\n",
      "(monthly_charges and churn) are  dependent of each other. (p = 1.613428816613666e-10)\n",
      "(total_charges and churn) are  independent of each other. (p = 0.5306597395541117)\n",
      "(churn and churn) are  dependent of each other. (p = 0.0)\n",
      "(tenure_years and churn) are  dependent of each other. (p = 5.128814357001389e-103)\n",
      "(phone_and_multi_line and churn) are  dependent of each other. (p = 0.02379064105030088)\n",
      "(partner_and_dependents and churn) are  dependent of each other. (p = 3.553329957567411e-34)\n",
      "(Bank transfer (automatic) and churn) are  dependent of each other. (p = 2.2093176937254503e-13)\n",
      "(Credit card (automatic) and churn) are  dependent of each other. (p = 2.764269874356872e-21)\n",
      "(Electronic check and churn) are  dependent of each other. (p = 6.81885305628491e-93)\n",
      "(Mailed check and churn) are  dependent of each other. (p = 8.810370295357648e-11)\n",
      "(DSL and churn) are  dependent of each other. (p = 4.298748267109115e-18)\n",
      "(Fiber optic and churn) are  dependent of each other. (p = 9.152685796432254e-99)\n",
      "(None and churn) are  dependent of each other. (p = 1.162714151203855e-53)\n",
      "(Month-to-month and churn) are  dependent of each other. (p = 5.384070719407295e-165)\n",
      "(One year and churn) are  dependent of each other. (p = 9.520830478420548e-32)\n",
      "(Two year and churn) are  dependent of each other. (p = 8.779726254859897e-94)\n"
     ]
    }
   ],
   "source": [
    "# Set alpha value\n",
    "alpha = 0.05\n",
    "\n",
    "for col in X_train.columns:\n",
    "\n",
    "    a, b = X_train[col], X_train[\"churn\"]\n",
    "\n",
    "    observed = pd.crosstab(a, b) \n",
    "    chi2, p, degf, expected = stats.chi2_contingency(observed)\n",
    "\n",
    "    if p < alpha:\n",
    "        # Reject the null hypothesis\n",
    "        print(\"({} and churn) are  dependent of each other. (p = {})\".format(col, p))\n",
    "    else:\n",
    "         # Failed to reject the null hypothesis\n",
    "        print(\"({} and churn) are  independent of each other. (p = {})\".format(col, p))"
   ]
  },
  {
   "cell_type": "markdown",
   "metadata": {},
   "source": [
    "Takeaways: Vast majority of variables are dependent with churn, except gender and total_charges are independent with churn respectively."
   ]
  },
  {
   "cell_type": "code",
   "execution_count": 18,
   "metadata": {},
   "outputs": [
    {
     "data": {
      "image/png": "[encoded data removed]",
      "text/plain": [
       "<Figure size 1440x1440 with 2 Axes>"
      ]
     },
     "metadata": {
      "needs_background": "light"
     },
     "output_type": "display_data"
    }
   ],
   "source": [
    "# Cramer's V is a statistic used to measure the strength of association between two nominal variables, \n",
    "# and it take values from 0 to 1. Values close to 0 indicate a weak association between the variables\n",
    "# and values close to 1 indicate a strong association between the variables.\n",
    "import itertools\n",
    "def cramers_corrected_stat(confusion_matrix):\n",
    "    \"\"\"\n",
    "    Calculates the corrected Cramer's V statistic\n",
    "    \n",
    "    Args:\n",
    "        confusion_matrix: The confusion matrix of the variables to calculate the statistic on\n",
    "    \n",
    "    Returns:\n",
    "        The corrected Cramer'v V statistic\n",
    "    \"\"\"\n",
    "    \n",
    "    chi2, _, _, _ = stats.chi2_contingency(confusion_matrix)\n",
    "    n = confusion_matrix.sum().sum()\n",
    "    phi2 = chi2/n\n",
    "    r, k = confusion_matrix.shape\n",
    "    phi2corr = max(0, phi2 - ((k-1)*(r-1))/(n-1))    \n",
    "    rcorr = r - ((r-1)**2)/(n-1)\n",
    "    kcorr = k - ((k-1)**2)/(n-1)\n",
    "    \n",
    "    return np.sqrt(phi2corr / min((kcorr-1), (rcorr-1)))\n",
    "\n",
    "cols = list(X_train.columns.values)\n",
    "corrM = np.zeros((len(cols),len(cols)))\n",
    "\n",
    "# Calculate s of every combination of variables\n",
    "for col1, col2 in itertools.combinations(cols, 2):\n",
    "\n",
    "    a, b = X_train[col1], X_train[col2]\n",
    "    \n",
    "    idx1, idx2 = cols.index(col1), cols.index(col2)\n",
    "    dfObserved = pd.crosstab(a,b) \n",
    "    corrM[idx1, idx2] = cramers_corrected_stat(dfObserved.values)\n",
    "    corrM[idx2, idx1] = corrM[idx1, idx2]\n",
    "\n",
    "corr = pd.DataFrame(corrM, index=cols, columns=cols)\n",
    "\n",
    "# Mask to get lower triangle\n",
    "mask = np.zeros_like(corr, dtype=np.bool)\n",
    "mask[np.triu_indices_from(mask)] = True\n",
    "\n",
    "cmap = sns.cubehelix_palette(light=1, as_cmap=True)\n",
    "\n",
    "# Draw the heatmap with the mask \n",
    "fig = plt.figure(figsize=(20, 20))\n",
    "\n",
    "sns.heatmap(corr, mask=mask, cmap=cmap, square=True, linewidths=.5, cbar_kws={\"shrink\": .5}, annot=True)\n",
    "plt.title('Cramer’s V calculated for the telco churn dataset')\n",
    "plt.show()"
   ]
  },
  {
   "cell_type": "markdown",
   "metadata": {},
   "source": [
    "Takeaway from the above heatmap: Except gender and total_charges, all features have some kind of association with churn, although all of the associations are not strong. Nevertheless, the strongest association exists between Month_to_month(contract_type) and tenure, the Cramer's V value is 0.41."
   ]
  },
  {
   "cell_type": "markdown",
   "metadata": {},
   "source": [
    "## Modeling"
   ]
  },
  {
   "cell_type": "markdown",
   "metadata": {},
   "source": []
  },
  {
   "cell_type": "code",
   "execution_count": 19,
   "metadata": {},
   "outputs": [],
   "source": [
    "X_train = X_train.drop(['churn'],axis=1)\n",
    "X_validate = X_validate.drop(['churn'],axis=1)\n",
    "X_test = X_test.drop(['churn'],axis=1)"
   ]
  },
  {
   "cell_type": "code",
   "execution_count": 20,
   "metadata": {},
   "outputs": [
    {
     "data": {
      "text/html": [
       "<div>\n",
       "<style scoped>\n",
       "    .dataframe tbody tr th:only-of-type {\n",
       "        vertical-align: middle;\n",
       "    }\n",
       "\n",
       "    .dataframe tbody tr th {\n",
       "        vertical-align: top;\n",
       "    }\n",
       "\n",
       "    .dataframe thead th {\n",
       "        text-align: right;\n",
       "    }\n",
       "</style>\n",
       "<table border=\"1\" class=\"dataframe\">\n",
       "  <thead>\n",
       "    <tr style=\"text-align: right;\">\n",
       "      <th></th>\n",
       "      <th>gender</th>\n",
       "      <th>senior_citizen</th>\n",
       "      <th>online_security</th>\n",
       "      <th>online_backup</th>\n",
       "      <th>device_protection</th>\n",
       "      <th>tech_support</th>\n",
       "      <th>streaming_tv</th>\n",
       "      <th>streaming_movies</th>\n",
       "      <th>paperless_billing</th>\n",
       "      <th>monthly_charges</th>\n",
       "      <th>total_charges</th>\n",
       "      <th>tenure_years</th>\n",
       "      <th>phone_and_multi_line</th>\n",
       "      <th>partner_and_dependents</th>\n",
       "      <th>Bank transfer (automatic)</th>\n",
       "      <th>Credit card (automatic)</th>\n",
       "      <th>Electronic check</th>\n",
       "      <th>Mailed check</th>\n",
       "      <th>DSL</th>\n",
       "      <th>Fiber optic</th>\n",
       "      <th>None</th>\n",
       "      <th>Month-to-month</th>\n",
       "      <th>One year</th>\n",
       "      <th>Two year</th>\n",
       "    </tr>\n",
       "    <tr>\n",
       "      <th>customer_id</th>\n",
       "      <th></th>\n",
       "      <th></th>\n",
       "      <th></th>\n",
       "      <th></th>\n",
       "      <th></th>\n",
       "      <th></th>\n",
       "      <th></th>\n",
       "      <th></th>\n",
       "      <th></th>\n",
       "      <th></th>\n",
       "      <th></th>\n",
       "      <th></th>\n",
       "      <th></th>\n",
       "      <th></th>\n",
       "      <th></th>\n",
       "      <th></th>\n",
       "      <th></th>\n",
       "      <th></th>\n",
       "      <th></th>\n",
       "      <th></th>\n",
       "      <th></th>\n",
       "      <th></th>\n",
       "      <th></th>\n",
       "      <th></th>\n",
       "    </tr>\n",
       "  </thead>\n",
       "  <tbody>\n",
       "    <tr>\n",
       "      <th>3714-JTVOV</th>\n",
       "      <td>0</td>\n",
       "      <td>1</td>\n",
       "      <td>2</td>\n",
       "      <td>0</td>\n",
       "      <td>0</td>\n",
       "      <td>0</td>\n",
       "      <td>0</td>\n",
       "      <td>0</td>\n",
       "      <td>1</td>\n",
       "      <td>74.15</td>\n",
       "      <td>3229.4</td>\n",
       "      <td>3.5</td>\n",
       "      <td>1</td>\n",
       "      <td>1</td>\n",
       "      <td>0.0</td>\n",
       "      <td>1.0</td>\n",
       "      <td>0.0</td>\n",
       "      <td>0.0</td>\n",
       "      <td>0.0</td>\n",
       "      <td>1.0</td>\n",
       "      <td>0.0</td>\n",
       "      <td>1.0</td>\n",
       "      <td>0.0</td>\n",
       "      <td>0.0</td>\n",
       "    </tr>\n",
       "  </tbody>\n",
       "</table>\n",
       "</div>"
      ],
      "text/plain": [
       "             gender  senior_citizen  online_security  online_backup  \\\n",
       "customer_id                                                           \n",
       "3714-JTVOV        0               1                2              0   \n",
       "\n",
       "             device_protection  tech_support  streaming_tv  streaming_movies  \\\n",
       "customer_id                                                                    \n",
       "3714-JTVOV                   0             0             0                 0   \n",
       "\n",
       "             paperless_billing  monthly_charges  total_charges  tenure_years  \\\n",
       "customer_id                                                                    \n",
       "3714-JTVOV                   1            74.15         3229.4           3.5   \n",
       "\n",
       "             phone_and_multi_line  partner_and_dependents  \\\n",
       "customer_id                                                 \n",
       "3714-JTVOV                      1                       1   \n",
       "\n",
       "             Bank transfer (automatic)  Credit card (automatic)  \\\n",
       "customer_id                                                       \n",
       "3714-JTVOV                         0.0                      1.0   \n",
       "\n",
       "             Electronic check  Mailed check  DSL  Fiber optic  None  \\\n",
       "customer_id                                                           \n",
       "3714-JTVOV                0.0           0.0  0.0          1.0   0.0   \n",
       "\n",
       "             Month-to-month  One year  Two year  \n",
       "customer_id                                      \n",
       "3714-JTVOV              1.0       0.0       0.0  "
      ]
     },
     "execution_count": 20,
     "metadata": {},
     "output_type": "execute_result"
    }
   ],
   "source": [
    "X_train.head(1)"
   ]
  },
  {
   "cell_type": "markdown",
   "metadata": {},
   "source": [
    "### Using different algorithms to modeling with all features"
   ]
  },
  {
   "cell_type": "code",
   "execution_count": 21,
   "metadata": {},
   "outputs": [
    {
     "data": {
      "text/html": [
       "<div>\n",
       "<style scoped>\n",
       "    .dataframe tbody tr th:only-of-type {\n",
       "        vertical-align: middle;\n",
       "    }\n",
       "\n",
       "    .dataframe tbody tr th {\n",
       "        vertical-align: top;\n",
       "    }\n",
       "\n",
       "    .dataframe thead th {\n",
       "        text-align: right;\n",
       "    }\n",
       "</style>\n",
       "<table border=\"1\" class=\"dataframe\">\n",
       "  <thead>\n",
       "    <tr style=\"text-align: right;\">\n",
       "      <th></th>\n",
       "      <th>0</th>\n",
       "      <th>1</th>\n",
       "      <th>accuracy</th>\n",
       "      <th>macro avg</th>\n",
       "      <th>weighted avg</th>\n",
       "    </tr>\n",
       "  </thead>\n",
       "  <tbody>\n",
       "    <tr>\n",
       "      <th>precision</th>\n",
       "      <td>0.836323</td>\n",
       "      <td>0.669528</td>\n",
       "      <td>0.801778</td>\n",
       "      <td>0.752925</td>\n",
       "      <td>0.791548</td>\n",
       "    </tr>\n",
       "    <tr>\n",
       "      <th>recall</th>\n",
       "      <td>0.906440</td>\n",
       "      <td>0.516556</td>\n",
       "      <td>0.801778</td>\n",
       "      <td>0.711498</td>\n",
       "      <td>0.801778</td>\n",
       "    </tr>\n",
       "    <tr>\n",
       "      <th>f1-score</th>\n",
       "      <td>0.869971</td>\n",
       "      <td>0.583178</td>\n",
       "      <td>0.801778</td>\n",
       "      <td>0.726574</td>\n",
       "      <td>0.792983</td>\n",
       "    </tr>\n",
       "    <tr>\n",
       "      <th>support</th>\n",
       "      <td>823.000000</td>\n",
       "      <td>302.000000</td>\n",
       "      <td>0.801778</td>\n",
       "      <td>1125.000000</td>\n",
       "      <td>1125.000000</td>\n",
       "    </tr>\n",
       "  </tbody>\n",
       "</table>\n",
       "</div>"
      ],
      "text/plain": [
       "                    0           1  accuracy    macro avg  weighted avg\n",
       "precision    0.836323    0.669528  0.801778     0.752925      0.791548\n",
       "recall       0.906440    0.516556  0.801778     0.711498      0.801778\n",
       "f1-score     0.869971    0.583178  0.801778     0.726574      0.792983\n",
       "support    823.000000  302.000000  0.801778  1125.000000   1125.000000"
      ]
     },
     "execution_count": 21,
     "metadata": {},
     "output_type": "execute_result"
    }
   ],
   "source": [
    "# logistic regression model\n",
    "model = LogisticRegression().fit(X_train, y_train)\n",
    "y_pred = model.predict(X_validate)\n",
    "pd.DataFrame(classification_report(y_validate, y_pred, output_dict=True))"
   ]
  },
  {
   "cell_type": "code",
   "execution_count": 22,
   "metadata": {},
   "outputs": [
    {
     "data": {
      "text/html": [
       "<div>\n",
       "<style scoped>\n",
       "    .dataframe tbody tr th:only-of-type {\n",
       "        vertical-align: middle;\n",
       "    }\n",
       "\n",
       "    .dataframe tbody tr th {\n",
       "        vertical-align: top;\n",
       "    }\n",
       "\n",
       "    .dataframe thead th {\n",
       "        text-align: right;\n",
       "    }\n",
       "</style>\n",
       "<table border=\"1\" class=\"dataframe\">\n",
       "  <thead>\n",
       "    <tr style=\"text-align: right;\">\n",
       "      <th></th>\n",
       "      <th>0</th>\n",
       "      <th>1</th>\n",
       "      <th>accuracy</th>\n",
       "      <th>macro avg</th>\n",
       "      <th>weighted avg</th>\n",
       "    </tr>\n",
       "  </thead>\n",
       "  <tbody>\n",
       "    <tr>\n",
       "      <th>precision</th>\n",
       "      <td>0.800412</td>\n",
       "      <td>0.705882</td>\n",
       "      <td>0.787556</td>\n",
       "      <td>0.753147</td>\n",
       "      <td>0.775036</td>\n",
       "    </tr>\n",
       "    <tr>\n",
       "      <th>recall</th>\n",
       "      <td>0.945322</td>\n",
       "      <td>0.357616</td>\n",
       "      <td>0.787556</td>\n",
       "      <td>0.651469</td>\n",
       "      <td>0.787556</td>\n",
       "    </tr>\n",
       "    <tr>\n",
       "      <th>f1-score</th>\n",
       "      <td>0.866852</td>\n",
       "      <td>0.474725</td>\n",
       "      <td>0.787556</td>\n",
       "      <td>0.670789</td>\n",
       "      <td>0.761588</td>\n",
       "    </tr>\n",
       "    <tr>\n",
       "      <th>support</th>\n",
       "      <td>823.000000</td>\n",
       "      <td>302.000000</td>\n",
       "      <td>0.787556</td>\n",
       "      <td>1125.000000</td>\n",
       "      <td>1125.000000</td>\n",
       "    </tr>\n",
       "  </tbody>\n",
       "</table>\n",
       "</div>"
      ],
      "text/plain": [
       "                    0           1  accuracy    macro avg  weighted avg\n",
       "precision    0.800412    0.705882  0.787556     0.753147      0.775036\n",
       "recall       0.945322    0.357616  0.787556     0.651469      0.787556\n",
       "f1-score     0.866852    0.474725  0.787556     0.670789      0.761588\n",
       "support    823.000000  302.000000  0.787556  1125.000000   1125.000000"
      ]
     },
     "execution_count": 22,
     "metadata": {},
     "output_type": "execute_result"
    }
   ],
   "source": [
    "# Decision tree model\n",
    "clf = DecisionTreeClassifier(criterion='entropy', max_depth=3, random_state=123)\n",
    "clf.fit(X_train, y_train)\n",
    "y_pred = clf.predict(X_validate)\n",
    "pd.DataFrame(classification_report(y_validate, y_pred, output_dict=True))"
   ]
  },
  {
   "cell_type": "code",
   "execution_count": 23,
   "metadata": {},
   "outputs": [
    {
     "data": {
      "text/html": [
       "<div>\n",
       "<style scoped>\n",
       "    .dataframe tbody tr th:only-of-type {\n",
       "        vertical-align: middle;\n",
       "    }\n",
       "\n",
       "    .dataframe tbody tr th {\n",
       "        vertical-align: top;\n",
       "    }\n",
       "\n",
       "    .dataframe thead th {\n",
       "        text-align: right;\n",
       "    }\n",
       "</style>\n",
       "<table border=\"1\" class=\"dataframe\">\n",
       "  <thead>\n",
       "    <tr style=\"text-align: right;\">\n",
       "      <th></th>\n",
       "      <th>0</th>\n",
       "      <th>1</th>\n",
       "      <th>accuracy</th>\n",
       "      <th>macro avg</th>\n",
       "      <th>weighted avg</th>\n",
       "    </tr>\n",
       "  </thead>\n",
       "  <tbody>\n",
       "    <tr>\n",
       "      <th>precision</th>\n",
       "      <td>0.833705</td>\n",
       "      <td>0.668122</td>\n",
       "      <td>0.8</td>\n",
       "      <td>0.750914</td>\n",
       "      <td>0.789255</td>\n",
       "    </tr>\n",
       "    <tr>\n",
       "      <th>recall</th>\n",
       "      <td>0.907655</td>\n",
       "      <td>0.506623</td>\n",
       "      <td>0.8</td>\n",
       "      <td>0.707139</td>\n",
       "      <td>0.800000</td>\n",
       "    </tr>\n",
       "    <tr>\n",
       "      <th>f1-score</th>\n",
       "      <td>0.869110</td>\n",
       "      <td>0.576271</td>\n",
       "      <td>0.8</td>\n",
       "      <td>0.722691</td>\n",
       "      <td>0.790499</td>\n",
       "    </tr>\n",
       "    <tr>\n",
       "      <th>support</th>\n",
       "      <td>823.000000</td>\n",
       "      <td>302.000000</td>\n",
       "      <td>0.8</td>\n",
       "      <td>1125.000000</td>\n",
       "      <td>1125.000000</td>\n",
       "    </tr>\n",
       "  </tbody>\n",
       "</table>\n",
       "</div>"
      ],
      "text/plain": [
       "                    0           1  accuracy    macro avg  weighted avg\n",
       "precision    0.833705    0.668122       0.8     0.750914      0.789255\n",
       "recall       0.907655    0.506623       0.8     0.707139      0.800000\n",
       "f1-score     0.869110    0.576271       0.8     0.722691      0.790499\n",
       "support    823.000000  302.000000       0.8  1125.000000   1125.000000"
      ]
     },
     "execution_count": 23,
     "metadata": {},
     "output_type": "execute_result"
    }
   ],
   "source": [
    "# Random forest tree model\n",
    "rf = RandomForestClassifier(min_samples_leaf=5, max_depth=10,random_state=123)\n",
    "rf.fit(X_train, y_train)\n",
    "y_pred = rf.predict(X_validate)\n",
    "pd.DataFrame(classification_report(y_validate, y_pred, output_dict=True))"
   ]
  },
  {
   "cell_type": "code",
   "execution_count": 24,
   "metadata": {},
   "outputs": [
    {
     "data": {
      "text/html": [
       "<div>\n",
       "<style scoped>\n",
       "    .dataframe tbody tr th:only-of-type {\n",
       "        vertical-align: middle;\n",
       "    }\n",
       "\n",
       "    .dataframe tbody tr th {\n",
       "        vertical-align: top;\n",
       "    }\n",
       "\n",
       "    .dataframe thead th {\n",
       "        text-align: right;\n",
       "    }\n",
       "</style>\n",
       "<table border=\"1\" class=\"dataframe\">\n",
       "  <thead>\n",
       "    <tr style=\"text-align: right;\">\n",
       "      <th></th>\n",
       "      <th>0</th>\n",
       "      <th>1</th>\n",
       "      <th>accuracy</th>\n",
       "      <th>macro avg</th>\n",
       "      <th>weighted avg</th>\n",
       "    </tr>\n",
       "  </thead>\n",
       "  <tbody>\n",
       "    <tr>\n",
       "      <th>precision</th>\n",
       "      <td>0.816303</td>\n",
       "      <td>0.559055</td>\n",
       "      <td>0.758222</td>\n",
       "      <td>0.687679</td>\n",
       "      <td>0.747246</td>\n",
       "    </tr>\n",
       "    <tr>\n",
       "      <th>recall</th>\n",
       "      <td>0.863913</td>\n",
       "      <td>0.470199</td>\n",
       "      <td>0.758222</td>\n",
       "      <td>0.667056</td>\n",
       "      <td>0.758222</td>\n",
       "    </tr>\n",
       "    <tr>\n",
       "      <th>f1-score</th>\n",
       "      <td>0.839433</td>\n",
       "      <td>0.510791</td>\n",
       "      <td>0.758222</td>\n",
       "      <td>0.675112</td>\n",
       "      <td>0.751211</td>\n",
       "    </tr>\n",
       "    <tr>\n",
       "      <th>support</th>\n",
       "      <td>823.000000</td>\n",
       "      <td>302.000000</td>\n",
       "      <td>0.758222</td>\n",
       "      <td>1125.000000</td>\n",
       "      <td>1125.000000</td>\n",
       "    </tr>\n",
       "  </tbody>\n",
       "</table>\n",
       "</div>"
      ],
      "text/plain": [
       "                    0           1  accuracy    macro avg  weighted avg\n",
       "precision    0.816303    0.559055  0.758222     0.687679      0.747246\n",
       "recall       0.863913    0.470199  0.758222     0.667056      0.758222\n",
       "f1-score     0.839433    0.510791  0.758222     0.675112      0.751211\n",
       "support    823.000000  302.000000  0.758222  1125.000000   1125.000000"
      ]
     },
     "execution_count": 24,
     "metadata": {},
     "output_type": "execute_result"
    }
   ],
   "source": [
    "# K-Nearest Neighbors Model(KNN)\n",
    "knn = KNeighborsClassifier(n_neighbors=3, weights='uniform')\n",
    "knn.fit(X_train, y_train)\n",
    "y_pred = knn.predict(X_validate)\n",
    "pd.DataFrame(classification_report(y_validate, y_pred, output_dict=True))"
   ]
  },
  {
   "cell_type": "markdown",
   "metadata": {},
   "source": [
    "### Using different algorithms to modeling with five selected features"
   ]
  },
  {
   "cell_type": "code",
   "execution_count": 25,
   "metadata": {},
   "outputs": [],
   "source": [
    "X_train = X_train[['Month-to-month','tenure_years','online_security','tech_support','Fiber optic']]\n",
    "X_validate = X_validate[['Month-to-month','tenure_years','online_security','tech_support','Fiber optic']]\n",
    "X_test = X_test[['Month-to-month','tenure_years','online_security','tech_support','Fiber optic']]"
   ]
  },
  {
   "cell_type": "code",
   "execution_count": 26,
   "metadata": {
    "scrolled": true
   },
   "outputs": [
    {
     "data": {
      "text/html": [
       "<div>\n",
       "<style scoped>\n",
       "    .dataframe tbody tr th:only-of-type {\n",
       "        vertical-align: middle;\n",
       "    }\n",
       "\n",
       "    .dataframe tbody tr th {\n",
       "        vertical-align: top;\n",
       "    }\n",
       "\n",
       "    .dataframe thead th {\n",
       "        text-align: right;\n",
       "    }\n",
       "</style>\n",
       "<table border=\"1\" class=\"dataframe\">\n",
       "  <thead>\n",
       "    <tr style=\"text-align: right;\">\n",
       "      <th></th>\n",
       "      <th>0</th>\n",
       "      <th>1</th>\n",
       "      <th>accuracy</th>\n",
       "      <th>macro avg</th>\n",
       "      <th>weighted avg</th>\n",
       "    </tr>\n",
       "  </thead>\n",
       "  <tbody>\n",
       "    <tr>\n",
       "      <th>precision</th>\n",
       "      <td>0.828283</td>\n",
       "      <td>0.636752</td>\n",
       "      <td>0.788444</td>\n",
       "      <td>0.732517</td>\n",
       "      <td>0.776867</td>\n",
       "    </tr>\n",
       "    <tr>\n",
       "      <th>recall</th>\n",
       "      <td>0.896719</td>\n",
       "      <td>0.493377</td>\n",
       "      <td>0.788444</td>\n",
       "      <td>0.695048</td>\n",
       "      <td>0.788444</td>\n",
       "    </tr>\n",
       "    <tr>\n",
       "      <th>f1-score</th>\n",
       "      <td>0.861144</td>\n",
       "      <td>0.555970</td>\n",
       "      <td>0.788444</td>\n",
       "      <td>0.708557</td>\n",
       "      <td>0.779221</td>\n",
       "    </tr>\n",
       "    <tr>\n",
       "      <th>support</th>\n",
       "      <td>823.000000</td>\n",
       "      <td>302.000000</td>\n",
       "      <td>0.788444</td>\n",
       "      <td>1125.000000</td>\n",
       "      <td>1125.000000</td>\n",
       "    </tr>\n",
       "  </tbody>\n",
       "</table>\n",
       "</div>"
      ],
      "text/plain": [
       "                    0           1  accuracy    macro avg  weighted avg\n",
       "precision    0.828283    0.636752  0.788444     0.732517      0.776867\n",
       "recall       0.896719    0.493377  0.788444     0.695048      0.788444\n",
       "f1-score     0.861144    0.555970  0.788444     0.708557      0.779221\n",
       "support    823.000000  302.000000  0.788444  1125.000000   1125.000000"
      ]
     },
     "execution_count": 26,
     "metadata": {},
     "output_type": "execute_result"
    }
   ],
   "source": [
    "model = LogisticRegression().fit(X_train, y_train)\n",
    "y_pred = model.predict(X_validate)\n",
    "pd.DataFrame(classification_report(y_validate, y_pred, output_dict=True))"
   ]
  },
  {
   "cell_type": "code",
   "execution_count": 27,
   "metadata": {},
   "outputs": [
    {
     "data": {
      "text/html": [
       "<div>\n",
       "<style scoped>\n",
       "    .dataframe tbody tr th:only-of-type {\n",
       "        vertical-align: middle;\n",
       "    }\n",
       "\n",
       "    .dataframe tbody tr th {\n",
       "        vertical-align: top;\n",
       "    }\n",
       "\n",
       "    .dataframe thead th {\n",
       "        text-align: right;\n",
       "    }\n",
       "</style>\n",
       "<table border=\"1\" class=\"dataframe\">\n",
       "  <thead>\n",
       "    <tr style=\"text-align: right;\">\n",
       "      <th></th>\n",
       "      <th>0</th>\n",
       "      <th>1</th>\n",
       "      <th>accuracy</th>\n",
       "      <th>macro avg</th>\n",
       "      <th>weighted avg</th>\n",
       "    </tr>\n",
       "  </thead>\n",
       "  <tbody>\n",
       "    <tr>\n",
       "      <th>precision</th>\n",
       "      <td>0.800412</td>\n",
       "      <td>0.705882</td>\n",
       "      <td>0.787556</td>\n",
       "      <td>0.753147</td>\n",
       "      <td>0.775036</td>\n",
       "    </tr>\n",
       "    <tr>\n",
       "      <th>recall</th>\n",
       "      <td>0.945322</td>\n",
       "      <td>0.357616</td>\n",
       "      <td>0.787556</td>\n",
       "      <td>0.651469</td>\n",
       "      <td>0.787556</td>\n",
       "    </tr>\n",
       "    <tr>\n",
       "      <th>f1-score</th>\n",
       "      <td>0.866852</td>\n",
       "      <td>0.474725</td>\n",
       "      <td>0.787556</td>\n",
       "      <td>0.670789</td>\n",
       "      <td>0.761588</td>\n",
       "    </tr>\n",
       "    <tr>\n",
       "      <th>support</th>\n",
       "      <td>823.000000</td>\n",
       "      <td>302.000000</td>\n",
       "      <td>0.787556</td>\n",
       "      <td>1125.000000</td>\n",
       "      <td>1125.000000</td>\n",
       "    </tr>\n",
       "  </tbody>\n",
       "</table>\n",
       "</div>"
      ],
      "text/plain": [
       "                    0           1  accuracy    macro avg  weighted avg\n",
       "precision    0.800412    0.705882  0.787556     0.753147      0.775036\n",
       "recall       0.945322    0.357616  0.787556     0.651469      0.787556\n",
       "f1-score     0.866852    0.474725  0.787556     0.670789      0.761588\n",
       "support    823.000000  302.000000  0.787556  1125.000000   1125.000000"
      ]
     },
     "execution_count": 27,
     "metadata": {},
     "output_type": "execute_result"
    }
   ],
   "source": [
    "clf = DecisionTreeClassifier(criterion='entropy', max_depth=3, random_state=123)\n",
    "clf.fit(X_train, y_train)\n",
    "y_pred = clf.predict(X_validate)\n",
    "pd.DataFrame(classification_report(y_validate, y_pred, output_dict=True))"
   ]
  },
  {
   "cell_type": "code",
   "execution_count": 28,
   "metadata": {},
   "outputs": [
    {
     "data": {
      "text/html": [
       "<div>\n",
       "<style scoped>\n",
       "    .dataframe tbody tr th:only-of-type {\n",
       "        vertical-align: middle;\n",
       "    }\n",
       "\n",
       "    .dataframe tbody tr th {\n",
       "        vertical-align: top;\n",
       "    }\n",
       "\n",
       "    .dataframe thead th {\n",
       "        text-align: right;\n",
       "    }\n",
       "</style>\n",
       "<table border=\"1\" class=\"dataframe\">\n",
       "  <thead>\n",
       "    <tr style=\"text-align: right;\">\n",
       "      <th></th>\n",
       "      <th>0</th>\n",
       "      <th>1</th>\n",
       "      <th>accuracy</th>\n",
       "      <th>macro avg</th>\n",
       "      <th>weighted avg</th>\n",
       "    </tr>\n",
       "  </thead>\n",
       "  <tbody>\n",
       "    <tr>\n",
       "      <th>precision</th>\n",
       "      <td>0.839623</td>\n",
       "      <td>0.599278</td>\n",
       "      <td>0.780444</td>\n",
       "      <td>0.719450</td>\n",
       "      <td>0.775103</td>\n",
       "    </tr>\n",
       "    <tr>\n",
       "      <th>recall</th>\n",
       "      <td>0.865128</td>\n",
       "      <td>0.549669</td>\n",
       "      <td>0.780444</td>\n",
       "      <td>0.707398</td>\n",
       "      <td>0.780444</td>\n",
       "    </tr>\n",
       "    <tr>\n",
       "      <th>f1-score</th>\n",
       "      <td>0.852184</td>\n",
       "      <td>0.573402</td>\n",
       "      <td>0.780444</td>\n",
       "      <td>0.712793</td>\n",
       "      <td>0.777347</td>\n",
       "    </tr>\n",
       "    <tr>\n",
       "      <th>support</th>\n",
       "      <td>823.000000</td>\n",
       "      <td>302.000000</td>\n",
       "      <td>0.780444</td>\n",
       "      <td>1125.000000</td>\n",
       "      <td>1125.000000</td>\n",
       "    </tr>\n",
       "  </tbody>\n",
       "</table>\n",
       "</div>"
      ],
      "text/plain": [
       "                    0           1  accuracy    macro avg  weighted avg\n",
       "precision    0.839623    0.599278  0.780444     0.719450      0.775103\n",
       "recall       0.865128    0.549669  0.780444     0.707398      0.780444\n",
       "f1-score     0.852184    0.573402  0.780444     0.712793      0.777347\n",
       "support    823.000000  302.000000  0.780444  1125.000000   1125.000000"
      ]
     },
     "execution_count": 28,
     "metadata": {},
     "output_type": "execute_result"
    }
   ],
   "source": [
    "rf = RandomForestClassifier(min_samples_leaf=5, max_depth=10,random_state=123)\n",
    "rf.fit(X_train, y_train)\n",
    "y_pred = rf.predict(X_validate)\n",
    "pd.DataFrame(classification_report(y_validate, y_pred, output_dict=True))"
   ]
  },
  {
   "cell_type": "code",
   "execution_count": 29,
   "metadata": {},
   "outputs": [
    {
     "data": {
      "text/html": [
       "<div>\n",
       "<style scoped>\n",
       "    .dataframe tbody tr th:only-of-type {\n",
       "        vertical-align: middle;\n",
       "    }\n",
       "\n",
       "    .dataframe tbody tr th {\n",
       "        vertical-align: top;\n",
       "    }\n",
       "\n",
       "    .dataframe thead th {\n",
       "        text-align: right;\n",
       "    }\n",
       "</style>\n",
       "<table border=\"1\" class=\"dataframe\">\n",
       "  <thead>\n",
       "    <tr style=\"text-align: right;\">\n",
       "      <th></th>\n",
       "      <th>0</th>\n",
       "      <th>1</th>\n",
       "      <th>accuracy</th>\n",
       "      <th>macro avg</th>\n",
       "      <th>weighted avg</th>\n",
       "    </tr>\n",
       "  </thead>\n",
       "  <tbody>\n",
       "    <tr>\n",
       "      <th>precision</th>\n",
       "      <td>0.821176</td>\n",
       "      <td>0.545455</td>\n",
       "      <td>0.753778</td>\n",
       "      <td>0.683316</td>\n",
       "      <td>0.747160</td>\n",
       "    </tr>\n",
       "    <tr>\n",
       "      <th>recall</th>\n",
       "      <td>0.848117</td>\n",
       "      <td>0.496689</td>\n",
       "      <td>0.753778</td>\n",
       "      <td>0.672403</td>\n",
       "      <td>0.753778</td>\n",
       "    </tr>\n",
       "    <tr>\n",
       "      <th>f1-score</th>\n",
       "      <td>0.834429</td>\n",
       "      <td>0.519931</td>\n",
       "      <td>0.753778</td>\n",
       "      <td>0.677180</td>\n",
       "      <td>0.750004</td>\n",
       "    </tr>\n",
       "    <tr>\n",
       "      <th>support</th>\n",
       "      <td>823.000000</td>\n",
       "      <td>302.000000</td>\n",
       "      <td>0.753778</td>\n",
       "      <td>1125.000000</td>\n",
       "      <td>1125.000000</td>\n",
       "    </tr>\n",
       "  </tbody>\n",
       "</table>\n",
       "</div>"
      ],
      "text/plain": [
       "                    0           1  accuracy    macro avg  weighted avg\n",
       "precision    0.821176    0.545455  0.753778     0.683316      0.747160\n",
       "recall       0.848117    0.496689  0.753778     0.672403      0.753778\n",
       "f1-score     0.834429    0.519931  0.753778     0.677180      0.750004\n",
       "support    823.000000  302.000000  0.753778  1125.000000   1125.000000"
      ]
     },
     "execution_count": 29,
     "metadata": {},
     "output_type": "execute_result"
    }
   ],
   "source": [
    "knn = KNeighborsClassifier(n_neighbors=3, weights='uniform')\n",
    "knn.fit(X_train, y_train)\n",
    "y_pred = knn.predict(X_validate)\n",
    "pd.DataFrame(classification_report(y_validate, y_pred, output_dict=True))"
   ]
  },
  {
   "cell_type": "code",
   "execution_count": 30,
   "metadata": {},
   "outputs": [],
   "source": [
    "#y_pred = model.predict(X_test)\n",
    "#print(classification_report(y_test, y_pred))"
   ]
  },
  {
   "cell_type": "markdown",
   "metadata": {},
   "source": [
    "### Using different algorithms to modeling with four selected features"
   ]
  },
  {
   "cell_type": "code",
   "execution_count": 31,
   "metadata": {},
   "outputs": [],
   "source": [
    "X_train = X_train[['Month-to-month','tenure_years','online_security','tech_support']]\n",
    "X_validate = X_validate[['Month-to-month','tenure_years','online_security','tech_support']]\n",
    "X_test = X_test[['Month-to-month','tenure_years','online_security','tech_support']]"
   ]
  },
  {
   "cell_type": "code",
   "execution_count": 32,
   "metadata": {},
   "outputs": [
    {
     "data": {
      "text/html": [
       "<div>\n",
       "<style scoped>\n",
       "    .dataframe tbody tr th:only-of-type {\n",
       "        vertical-align: middle;\n",
       "    }\n",
       "\n",
       "    .dataframe tbody tr th {\n",
       "        vertical-align: top;\n",
       "    }\n",
       "\n",
       "    .dataframe thead th {\n",
       "        text-align: right;\n",
       "    }\n",
       "</style>\n",
       "<table border=\"1\" class=\"dataframe\">\n",
       "  <thead>\n",
       "    <tr style=\"text-align: right;\">\n",
       "      <th></th>\n",
       "      <th>0</th>\n",
       "      <th>1</th>\n",
       "      <th>accuracy</th>\n",
       "      <th>macro avg</th>\n",
       "      <th>weighted avg</th>\n",
       "    </tr>\n",
       "  </thead>\n",
       "  <tbody>\n",
       "    <tr>\n",
       "      <th>precision</th>\n",
       "      <td>0.827273</td>\n",
       "      <td>0.612245</td>\n",
       "      <td>0.780444</td>\n",
       "      <td>0.719759</td>\n",
       "      <td>0.769550</td>\n",
       "    </tr>\n",
       "    <tr>\n",
       "      <th>recall</th>\n",
       "      <td>0.884569</td>\n",
       "      <td>0.496689</td>\n",
       "      <td>0.780444</td>\n",
       "      <td>0.690629</td>\n",
       "      <td>0.780444</td>\n",
       "    </tr>\n",
       "    <tr>\n",
       "      <th>f1-score</th>\n",
       "      <td>0.854962</td>\n",
       "      <td>0.548446</td>\n",
       "      <td>0.780444</td>\n",
       "      <td>0.701704</td>\n",
       "      <td>0.772679</td>\n",
       "    </tr>\n",
       "    <tr>\n",
       "      <th>support</th>\n",
       "      <td>823.000000</td>\n",
       "      <td>302.000000</td>\n",
       "      <td>0.780444</td>\n",
       "      <td>1125.000000</td>\n",
       "      <td>1125.000000</td>\n",
       "    </tr>\n",
       "  </tbody>\n",
       "</table>\n",
       "</div>"
      ],
      "text/plain": [
       "                    0           1  accuracy    macro avg  weighted avg\n",
       "precision    0.827273    0.612245  0.780444     0.719759      0.769550\n",
       "recall       0.884569    0.496689  0.780444     0.690629      0.780444\n",
       "f1-score     0.854962    0.548446  0.780444     0.701704      0.772679\n",
       "support    823.000000  302.000000  0.780444  1125.000000   1125.000000"
      ]
     },
     "execution_count": 32,
     "metadata": {},
     "output_type": "execute_result"
    }
   ],
   "source": [
    "model = LogisticRegression().fit(X_train, y_train)\n",
    "y_pred = model.predict(X_validate)\n",
    "pd.DataFrame(classification_report(y_validate, y_pred, output_dict=True))"
   ]
  },
  {
   "cell_type": "code",
   "execution_count": 33,
   "metadata": {},
   "outputs": [
    {
     "data": {
      "text/html": [
       "<div>\n",
       "<style scoped>\n",
       "    .dataframe tbody tr th:only-of-type {\n",
       "        vertical-align: middle;\n",
       "    }\n",
       "\n",
       "    .dataframe tbody tr th {\n",
       "        vertical-align: top;\n",
       "    }\n",
       "\n",
       "    .dataframe thead th {\n",
       "        text-align: right;\n",
       "    }\n",
       "</style>\n",
       "<table border=\"1\" class=\"dataframe\">\n",
       "  <thead>\n",
       "    <tr style=\"text-align: right;\">\n",
       "      <th></th>\n",
       "      <th>0</th>\n",
       "      <th>1</th>\n",
       "      <th>accuracy</th>\n",
       "      <th>macro avg</th>\n",
       "      <th>weighted avg</th>\n",
       "    </tr>\n",
       "  </thead>\n",
       "  <tbody>\n",
       "    <tr>\n",
       "      <th>precision</th>\n",
       "      <td>0.795478</td>\n",
       "      <td>0.677632</td>\n",
       "      <td>0.779556</td>\n",
       "      <td>0.736555</td>\n",
       "      <td>0.763843</td>\n",
       "    </tr>\n",
       "    <tr>\n",
       "      <th>recall</th>\n",
       "      <td>0.940462</td>\n",
       "      <td>0.341060</td>\n",
       "      <td>0.779556</td>\n",
       "      <td>0.640761</td>\n",
       "      <td>0.779556</td>\n",
       "    </tr>\n",
       "    <tr>\n",
       "      <th>f1-score</th>\n",
       "      <td>0.861915</td>\n",
       "      <td>0.453744</td>\n",
       "      <td>0.779556</td>\n",
       "      <td>0.657830</td>\n",
       "      <td>0.752344</td>\n",
       "    </tr>\n",
       "    <tr>\n",
       "      <th>support</th>\n",
       "      <td>823.000000</td>\n",
       "      <td>302.000000</td>\n",
       "      <td>0.779556</td>\n",
       "      <td>1125.000000</td>\n",
       "      <td>1125.000000</td>\n",
       "    </tr>\n",
       "  </tbody>\n",
       "</table>\n",
       "</div>"
      ],
      "text/plain": [
       "                    0           1  accuracy    macro avg  weighted avg\n",
       "precision    0.795478    0.677632  0.779556     0.736555      0.763843\n",
       "recall       0.940462    0.341060  0.779556     0.640761      0.779556\n",
       "f1-score     0.861915    0.453744  0.779556     0.657830      0.752344\n",
       "support    823.000000  302.000000  0.779556  1125.000000   1125.000000"
      ]
     },
     "execution_count": 33,
     "metadata": {},
     "output_type": "execute_result"
    }
   ],
   "source": [
    "clf = DecisionTreeClassifier(criterion='entropy', max_depth=3, random_state=123)\n",
    "clf.fit(X_train, y_train)\n",
    "y_pred = clf.predict(X_validate)\n",
    "pd.DataFrame(classification_report(y_validate, y_pred, output_dict=True))"
   ]
  },
  {
   "cell_type": "code",
   "execution_count": 34,
   "metadata": {},
   "outputs": [
    {
     "data": {
      "text/html": [
       "<div>\n",
       "<style scoped>\n",
       "    .dataframe tbody tr th:only-of-type {\n",
       "        vertical-align: middle;\n",
       "    }\n",
       "\n",
       "    .dataframe tbody tr th {\n",
       "        vertical-align: top;\n",
       "    }\n",
       "\n",
       "    .dataframe thead th {\n",
       "        text-align: right;\n",
       "    }\n",
       "</style>\n",
       "<table border=\"1\" class=\"dataframe\">\n",
       "  <thead>\n",
       "    <tr style=\"text-align: right;\">\n",
       "      <th></th>\n",
       "      <th>0</th>\n",
       "      <th>1</th>\n",
       "      <th>accuracy</th>\n",
       "      <th>macro avg</th>\n",
       "      <th>weighted avg</th>\n",
       "    </tr>\n",
       "  </thead>\n",
       "  <tbody>\n",
       "    <tr>\n",
       "      <th>precision</th>\n",
       "      <td>0.810515</td>\n",
       "      <td>0.608491</td>\n",
       "      <td>0.772444</td>\n",
       "      <td>0.709503</td>\n",
       "      <td>0.756283</td>\n",
       "    </tr>\n",
       "    <tr>\n",
       "      <th>recall</th>\n",
       "      <td>0.899149</td>\n",
       "      <td>0.427152</td>\n",
       "      <td>0.772444</td>\n",
       "      <td>0.663151</td>\n",
       "      <td>0.772444</td>\n",
       "    </tr>\n",
       "    <tr>\n",
       "      <th>f1-score</th>\n",
       "      <td>0.852535</td>\n",
       "      <td>0.501946</td>\n",
       "      <td>0.772444</td>\n",
       "      <td>0.677240</td>\n",
       "      <td>0.758421</td>\n",
       "    </tr>\n",
       "    <tr>\n",
       "      <th>support</th>\n",
       "      <td>823.000000</td>\n",
       "      <td>302.000000</td>\n",
       "      <td>0.772444</td>\n",
       "      <td>1125.000000</td>\n",
       "      <td>1125.000000</td>\n",
       "    </tr>\n",
       "  </tbody>\n",
       "</table>\n",
       "</div>"
      ],
      "text/plain": [
       "                    0           1  accuracy    macro avg  weighted avg\n",
       "precision    0.810515    0.608491  0.772444     0.709503      0.756283\n",
       "recall       0.899149    0.427152  0.772444     0.663151      0.772444\n",
       "f1-score     0.852535    0.501946  0.772444     0.677240      0.758421\n",
       "support    823.000000  302.000000  0.772444  1125.000000   1125.000000"
      ]
     },
     "execution_count": 34,
     "metadata": {},
     "output_type": "execute_result"
    }
   ],
   "source": [
    "rf = RandomForestClassifier(min_samples_leaf=5, max_depth=10,random_state=123)\n",
    "rf.fit(X_train, y_train)\n",
    "y_pred = rf.predict(X_validate)\n",
    "pd.DataFrame(classification_report(y_validate, y_pred, output_dict=True))"
   ]
  },
  {
   "cell_type": "code",
   "execution_count": 35,
   "metadata": {},
   "outputs": [
    {
     "data": {
      "text/html": [
       "<div>\n",
       "<style scoped>\n",
       "    .dataframe tbody tr th:only-of-type {\n",
       "        vertical-align: middle;\n",
       "    }\n",
       "\n",
       "    .dataframe tbody tr th {\n",
       "        vertical-align: top;\n",
       "    }\n",
       "\n",
       "    .dataframe thead th {\n",
       "        text-align: right;\n",
       "    }\n",
       "</style>\n",
       "<table border=\"1\" class=\"dataframe\">\n",
       "  <thead>\n",
       "    <tr style=\"text-align: right;\">\n",
       "      <th></th>\n",
       "      <th>0</th>\n",
       "      <th>1</th>\n",
       "      <th>accuracy</th>\n",
       "      <th>macro avg</th>\n",
       "      <th>weighted avg</th>\n",
       "    </tr>\n",
       "  </thead>\n",
       "  <tbody>\n",
       "    <tr>\n",
       "      <th>precision</th>\n",
       "      <td>0.800000</td>\n",
       "      <td>0.485185</td>\n",
       "      <td>0.724444</td>\n",
       "      <td>0.642593</td>\n",
       "      <td>0.715490</td>\n",
       "    </tr>\n",
       "    <tr>\n",
       "      <th>recall</th>\n",
       "      <td>0.831106</td>\n",
       "      <td>0.433775</td>\n",
       "      <td>0.724444</td>\n",
       "      <td>0.632440</td>\n",
       "      <td>0.724444</td>\n",
       "    </tr>\n",
       "    <tr>\n",
       "      <th>f1-score</th>\n",
       "      <td>0.815256</td>\n",
       "      <td>0.458042</td>\n",
       "      <td>0.724444</td>\n",
       "      <td>0.636649</td>\n",
       "      <td>0.719364</td>\n",
       "    </tr>\n",
       "    <tr>\n",
       "      <th>support</th>\n",
       "      <td>823.000000</td>\n",
       "      <td>302.000000</td>\n",
       "      <td>0.724444</td>\n",
       "      <td>1125.000000</td>\n",
       "      <td>1125.000000</td>\n",
       "    </tr>\n",
       "  </tbody>\n",
       "</table>\n",
       "</div>"
      ],
      "text/plain": [
       "                    0           1  accuracy    macro avg  weighted avg\n",
       "precision    0.800000    0.485185  0.724444     0.642593      0.715490\n",
       "recall       0.831106    0.433775  0.724444     0.632440      0.724444\n",
       "f1-score     0.815256    0.458042  0.724444     0.636649      0.719364\n",
       "support    823.000000  302.000000  0.724444  1125.000000   1125.000000"
      ]
     },
     "execution_count": 35,
     "metadata": {},
     "output_type": "execute_result"
    }
   ],
   "source": [
    "knn = KNeighborsClassifier(n_neighbors=3, weights='uniform')\n",
    "knn.fit(X_train, y_train)\n",
    "y_pred = knn.predict(X_validate)\n",
    "pd.DataFrame(classification_report(y_validate, y_pred, output_dict=True))"
   ]
  },
  {
   "cell_type": "markdown",
   "metadata": {},
   "source": [
    "### Using different algorithms to modeling with two selected features"
   ]
  },
  {
   "cell_type": "code",
   "execution_count": 36,
   "metadata": {},
   "outputs": [],
   "source": [
    "X_train = X_train[['Month-to-month','tenure_years']]\n",
    "X_validate = X_validate[['Month-to-month','tenure_years']]\n",
    "X_test = X_test[['Month-to-month','tenure_years']]"
   ]
  },
  {
   "cell_type": "code",
   "execution_count": 37,
   "metadata": {},
   "outputs": [
    {
     "data": {
      "text/html": [
       "<div>\n",
       "<style scoped>\n",
       "    .dataframe tbody tr th:only-of-type {\n",
       "        vertical-align: middle;\n",
       "    }\n",
       "\n",
       "    .dataframe tbody tr th {\n",
       "        vertical-align: top;\n",
       "    }\n",
       "\n",
       "    .dataframe thead th {\n",
       "        text-align: right;\n",
       "    }\n",
       "</style>\n",
       "<table border=\"1\" class=\"dataframe\">\n",
       "  <thead>\n",
       "    <tr style=\"text-align: right;\">\n",
       "      <th></th>\n",
       "      <th>0</th>\n",
       "      <th>1</th>\n",
       "      <th>accuracy</th>\n",
       "      <th>macro avg</th>\n",
       "      <th>weighted avg</th>\n",
       "    </tr>\n",
       "  </thead>\n",
       "  <tbody>\n",
       "    <tr>\n",
       "      <th>precision</th>\n",
       "      <td>0.777665</td>\n",
       "      <td>0.592857</td>\n",
       "      <td>0.754667</td>\n",
       "      <td>0.685261</td>\n",
       "      <td>0.728054</td>\n",
       "    </tr>\n",
       "    <tr>\n",
       "      <th>recall</th>\n",
       "      <td>0.930741</td>\n",
       "      <td>0.274834</td>\n",
       "      <td>0.754667</td>\n",
       "      <td>0.602788</td>\n",
       "      <td>0.754667</td>\n",
       "    </tr>\n",
       "    <tr>\n",
       "      <th>f1-score</th>\n",
       "      <td>0.847345</td>\n",
       "      <td>0.375566</td>\n",
       "      <td>0.754667</td>\n",
       "      <td>0.611455</td>\n",
       "      <td>0.720699</td>\n",
       "    </tr>\n",
       "    <tr>\n",
       "      <th>support</th>\n",
       "      <td>823.000000</td>\n",
       "      <td>302.000000</td>\n",
       "      <td>0.754667</td>\n",
       "      <td>1125.000000</td>\n",
       "      <td>1125.000000</td>\n",
       "    </tr>\n",
       "  </tbody>\n",
       "</table>\n",
       "</div>"
      ],
      "text/plain": [
       "                    0           1  accuracy    macro avg  weighted avg\n",
       "precision    0.777665    0.592857  0.754667     0.685261      0.728054\n",
       "recall       0.930741    0.274834  0.754667     0.602788      0.754667\n",
       "f1-score     0.847345    0.375566  0.754667     0.611455      0.720699\n",
       "support    823.000000  302.000000  0.754667  1125.000000   1125.000000"
      ]
     },
     "execution_count": 37,
     "metadata": {},
     "output_type": "execute_result"
    }
   ],
   "source": [
    "model = LogisticRegression().fit(X_train, y_train)\n",
    "y_pred = model.predict(X_validate)\n",
    "pd.DataFrame(classification_report(y_validate, y_pred, output_dict=True))"
   ]
  },
  {
   "cell_type": "code",
   "execution_count": 38,
   "metadata": {},
   "outputs": [
    {
     "data": {
      "text/html": [
       "<div>\n",
       "<style scoped>\n",
       "    .dataframe tbody tr th:only-of-type {\n",
       "        vertical-align: middle;\n",
       "    }\n",
       "\n",
       "    .dataframe tbody tr th {\n",
       "        vertical-align: top;\n",
       "    }\n",
       "\n",
       "    .dataframe thead th {\n",
       "        text-align: right;\n",
       "    }\n",
       "</style>\n",
       "<table border=\"1\" class=\"dataframe\">\n",
       "  <thead>\n",
       "    <tr style=\"text-align: right;\">\n",
       "      <th></th>\n",
       "      <th>0</th>\n",
       "      <th>1</th>\n",
       "      <th>accuracy</th>\n",
       "      <th>macro avg</th>\n",
       "      <th>weighted avg</th>\n",
       "    </tr>\n",
       "  </thead>\n",
       "  <tbody>\n",
       "    <tr>\n",
       "      <th>precision</th>\n",
       "      <td>0.805310</td>\n",
       "      <td>0.570136</td>\n",
       "      <td>0.759111</td>\n",
       "      <td>0.687723</td>\n",
       "      <td>0.742179</td>\n",
       "    </tr>\n",
       "    <tr>\n",
       "      <th>recall</th>\n",
       "      <td>0.884569</td>\n",
       "      <td>0.417219</td>\n",
       "      <td>0.759111</td>\n",
       "      <td>0.650894</td>\n",
       "      <td>0.759111</td>\n",
       "    </tr>\n",
       "    <tr>\n",
       "      <th>f1-score</th>\n",
       "      <td>0.843080</td>\n",
       "      <td>0.481836</td>\n",
       "      <td>0.759111</td>\n",
       "      <td>0.662458</td>\n",
       "      <td>0.746106</td>\n",
       "    </tr>\n",
       "    <tr>\n",
       "      <th>support</th>\n",
       "      <td>823.000000</td>\n",
       "      <td>302.000000</td>\n",
       "      <td>0.759111</td>\n",
       "      <td>1125.000000</td>\n",
       "      <td>1125.000000</td>\n",
       "    </tr>\n",
       "  </tbody>\n",
       "</table>\n",
       "</div>"
      ],
      "text/plain": [
       "                    0           1  accuracy    macro avg  weighted avg\n",
       "precision    0.805310    0.570136  0.759111     0.687723      0.742179\n",
       "recall       0.884569    0.417219  0.759111     0.650894      0.759111\n",
       "f1-score     0.843080    0.481836  0.759111     0.662458      0.746106\n",
       "support    823.000000  302.000000  0.759111  1125.000000   1125.000000"
      ]
     },
     "execution_count": 38,
     "metadata": {},
     "output_type": "execute_result"
    }
   ],
   "source": [
    "clf = DecisionTreeClassifier(criterion='entropy', max_depth=3, random_state=123)\n",
    "clf.fit(X_train, y_train)\n",
    "y_pred = clf.predict(X_validate)\n",
    "pd.DataFrame(classification_report(y_validate, y_pred, output_dict=True))"
   ]
  },
  {
   "cell_type": "code",
   "execution_count": 39,
   "metadata": {},
   "outputs": [
    {
     "data": {
      "text/html": [
       "<div>\n",
       "<style scoped>\n",
       "    .dataframe tbody tr th:only-of-type {\n",
       "        vertical-align: middle;\n",
       "    }\n",
       "\n",
       "    .dataframe tbody tr th {\n",
       "        vertical-align: top;\n",
       "    }\n",
       "\n",
       "    .dataframe thead th {\n",
       "        text-align: right;\n",
       "    }\n",
       "</style>\n",
       "<table border=\"1\" class=\"dataframe\">\n",
       "  <thead>\n",
       "    <tr style=\"text-align: right;\">\n",
       "      <th></th>\n",
       "      <th>0</th>\n",
       "      <th>1</th>\n",
       "      <th>accuracy</th>\n",
       "      <th>macro avg</th>\n",
       "      <th>weighted avg</th>\n",
       "    </tr>\n",
       "  </thead>\n",
       "  <tbody>\n",
       "    <tr>\n",
       "      <th>precision</th>\n",
       "      <td>0.777665</td>\n",
       "      <td>0.592857</td>\n",
       "      <td>0.754667</td>\n",
       "      <td>0.685261</td>\n",
       "      <td>0.728054</td>\n",
       "    </tr>\n",
       "    <tr>\n",
       "      <th>recall</th>\n",
       "      <td>0.930741</td>\n",
       "      <td>0.274834</td>\n",
       "      <td>0.754667</td>\n",
       "      <td>0.602788</td>\n",
       "      <td>0.754667</td>\n",
       "    </tr>\n",
       "    <tr>\n",
       "      <th>f1-score</th>\n",
       "      <td>0.847345</td>\n",
       "      <td>0.375566</td>\n",
       "      <td>0.754667</td>\n",
       "      <td>0.611455</td>\n",
       "      <td>0.720699</td>\n",
       "    </tr>\n",
       "    <tr>\n",
       "      <th>support</th>\n",
       "      <td>823.000000</td>\n",
       "      <td>302.000000</td>\n",
       "      <td>0.754667</td>\n",
       "      <td>1125.000000</td>\n",
       "      <td>1125.000000</td>\n",
       "    </tr>\n",
       "  </tbody>\n",
       "</table>\n",
       "</div>"
      ],
      "text/plain": [
       "                    0           1  accuracy    macro avg  weighted avg\n",
       "precision    0.777665    0.592857  0.754667     0.685261      0.728054\n",
       "recall       0.930741    0.274834  0.754667     0.602788      0.754667\n",
       "f1-score     0.847345    0.375566  0.754667     0.611455      0.720699\n",
       "support    823.000000  302.000000  0.754667  1125.000000   1125.000000"
      ]
     },
     "execution_count": 39,
     "metadata": {},
     "output_type": "execute_result"
    }
   ],
   "source": [
    "rf = RandomForestClassifier(min_samples_leaf=5, max_depth=10,random_state=123)\n",
    "rf.fit(X_train, y_train)\n",
    "y_pred = rf.predict(X_validate)\n",
    "pd.DataFrame(classification_report(y_validate, y_pred, output_dict=True))"
   ]
  },
  {
   "cell_type": "code",
   "execution_count": 40,
   "metadata": {},
   "outputs": [
    {
     "data": {
      "text/html": [
       "<div>\n",
       "<style scoped>\n",
       "    .dataframe tbody tr th:only-of-type {\n",
       "        vertical-align: middle;\n",
       "    }\n",
       "\n",
       "    .dataframe tbody tr th {\n",
       "        vertical-align: top;\n",
       "    }\n",
       "\n",
       "    .dataframe thead th {\n",
       "        text-align: right;\n",
       "    }\n",
       "</style>\n",
       "<table border=\"1\" class=\"dataframe\">\n",
       "  <thead>\n",
       "    <tr style=\"text-align: right;\">\n",
       "      <th></th>\n",
       "      <th>0</th>\n",
       "      <th>1</th>\n",
       "      <th>accuracy</th>\n",
       "      <th>macro avg</th>\n",
       "      <th>weighted avg</th>\n",
       "    </tr>\n",
       "  </thead>\n",
       "  <tbody>\n",
       "    <tr>\n",
       "      <th>precision</th>\n",
       "      <td>0.762332</td>\n",
       "      <td>0.386266</td>\n",
       "      <td>0.684444</td>\n",
       "      <td>0.574299</td>\n",
       "      <td>0.661379</td>\n",
       "    </tr>\n",
       "    <tr>\n",
       "      <th>recall</th>\n",
       "      <td>0.826245</td>\n",
       "      <td>0.298013</td>\n",
       "      <td>0.684444</td>\n",
       "      <td>0.562129</td>\n",
       "      <td>0.684444</td>\n",
       "    </tr>\n",
       "    <tr>\n",
       "      <th>f1-score</th>\n",
       "      <td>0.793003</td>\n",
       "      <td>0.336449</td>\n",
       "      <td>0.684444</td>\n",
       "      <td>0.564726</td>\n",
       "      <td>0.670443</td>\n",
       "    </tr>\n",
       "    <tr>\n",
       "      <th>support</th>\n",
       "      <td>823.000000</td>\n",
       "      <td>302.000000</td>\n",
       "      <td>0.684444</td>\n",
       "      <td>1125.000000</td>\n",
       "      <td>1125.000000</td>\n",
       "    </tr>\n",
       "  </tbody>\n",
       "</table>\n",
       "</div>"
      ],
      "text/plain": [
       "                    0           1  accuracy    macro avg  weighted avg\n",
       "precision    0.762332    0.386266  0.684444     0.574299      0.661379\n",
       "recall       0.826245    0.298013  0.684444     0.562129      0.684444\n",
       "f1-score     0.793003    0.336449  0.684444     0.564726      0.670443\n",
       "support    823.000000  302.000000  0.684444  1125.000000   1125.000000"
      ]
     },
     "execution_count": 40,
     "metadata": {},
     "output_type": "execute_result"
    }
   ],
   "source": [
    "knn = KNeighborsClassifier(n_neighbors=3, weights='uniform')\n",
    "knn.fit(X_train, y_train)\n",
    "y_pred = knn.predict(X_validate)\n",
    "pd.DataFrame(classification_report(y_validate, y_pred, output_dict=True))"
   ]
  },
  {
   "cell_type": "code",
   "execution_count": null,
   "metadata": {},
   "outputs": [],
   "source": []
  }
 ],
 "metadata": {
  "kernelspec": {
   "display_name": "Python 3",
   "language": "python",
   "name": "python3"
  },
  "language_info": {
   "codemirror_mode": {
    "name": "ipython",
    "version": 3
   },
   "file_extension": ".py",
   "mimetype": "text/x-python",
   "name": "python",
   "nbconvert_exporter": "python",
   "pygments_lexer": "ipython3",
   "version": "3.7.4"
  }
 },
 "nbformat": 4,
 "nbformat_minor": 2
}
